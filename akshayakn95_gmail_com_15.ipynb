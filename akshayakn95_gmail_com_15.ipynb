{
  "nbformat": 4,
  "nbformat_minor": 0,
  "metadata": {
    "colab": {
      "name": "akshayakn95@gmail.com_23.ipynb",
      "provenance": [],
      "collapsed_sections": []
    },
    "kernelspec": {
      "name": "python3",
      "display_name": "Python 3"
    }
  },
  "cells": [
    {
      "cell_type": "code",
      "metadata": {
        "id": "YWHktk-Q4cQh",
        "colab_type": "code",
        "colab": {
          "base_uri": "https://localhost:8080/",
          "height": 35
        },
        "outputId": "c4b274b2-3cdf-476e-b237-04fde27579f2"
      },
      "source": [
        "# Credits: https://github.com/keras-team/keras/blob/master/examples/mnist_cnn.py\n",
        "\n",
        "\n",
        "from __future__ import print_function\n",
        "import keras\n",
        "from keras.datasets import mnist\n",
        "from keras.models import Sequential\n",
        "from keras.layers import Dense, Dropout, Flatten\n",
        "from keras.layers import Conv2D, MaxPooling2D\n",
        "from keras import backend as K\n"
      ],
      "execution_count": 1,
      "outputs": [
        {
          "output_type": "stream",
          "text": [
            "Using TensorFlow backend.\n"
          ],
          "name": "stderr"
        }
      ]
    },
    {
      "cell_type": "markdown",
      "metadata": {
        "id": "I3ZF3b9-5bXh",
        "colab_type": "text"
      },
      "source": [
        "from __future__ import print_function read about it https://www.pythonsheets.com/notes/python-future.html"
      ]
    },
    {
      "cell_type": "code",
      "metadata": {
        "id": "pbrFvLvH6HVP",
        "colab_type": "code",
        "colab": {
          "base_uri": "https://localhost:8080/",
          "height": 53
        },
        "outputId": "caf2429d-79d4-4234-abef-7e956dcdb4e5"
      },
      "source": [
        "batch_size = 128\n",
        "num_classes = 10\n",
        "epochs = 10\n",
        "\n",
        "# input image dimensions\n",
        "img_rows, img_cols = 28, 28\n",
        "\n",
        "# the data, split between train and test sets\n",
        "(x_train, y_train), (x_test, y_test) = mnist.load_data()\n",
        "\n",
        "if K.image_data_format() == 'channels_first':\n",
        "  #https://machinelearningmastery.com/a-gentle-introduction-to-channels-first-and-channels-last-image-formats-for-deep-learning/ to know about image_data_format and what is \"channelS_first\"\n",
        "    x_train = x_train.reshape(x_train.shape[0], 1, img_rows, img_cols)\n",
        "    x_test = x_test.reshape(x_test.shape[0], 1, img_rows, img_cols)\n",
        "    input_shape = (1, img_rows, img_cols)\n",
        "else:\n",
        "    x_train = x_train.reshape(x_train.shape[0], img_rows, img_cols, 1)\n",
        "    x_test = x_test.reshape(x_test.shape[0], img_rows, img_cols, 1)\n",
        "    input_shape = (img_rows, img_cols, 1)"
      ],
      "execution_count": 2,
      "outputs": [
        {
          "output_type": "stream",
          "text": [
            "Downloading data from https://s3.amazonaws.com/img-datasets/mnist.npz\n",
            "11493376/11490434 [==============================] - 2s 0us/step\n"
          ],
          "name": "stdout"
        }
      ]
    },
    {
      "cell_type": "code",
      "metadata": {
        "id": "5NQA3EAM70Pn",
        "colab_type": "code",
        "colab": {
          "base_uri": "https://localhost:8080/",
          "height": 72
        },
        "outputId": "22f9acd8-2f5d-4249-a50d-735bbbcb5714"
      },
      "source": [
        "x_train = x_train.astype('float32')\n",
        "x_test = x_test.astype('float32')\n",
        "x_train /= 255 #normalizing\n",
        "x_test /= 255 #normalizing\n",
        "print('x_train shape:', x_train.shape)\n",
        "print(x_train.shape[0], 'train samples')\n",
        "print(x_test.shape[0], 'test samples')\n",
        "\n",
        "# convert class vectors to binary class matrices\n",
        "y_train = keras.utils.to_categorical(y_train, num_classes)\n",
        "y_test = keras.utils.to_categorical(y_test, num_classes)\n"
      ],
      "execution_count": 3,
      "outputs": [
        {
          "output_type": "stream",
          "text": [
            "x_train shape: (60000, 28, 28, 1)\n",
            "60000 train samples\n",
            "10000 test samples\n"
          ],
          "name": "stdout"
        }
      ]
    },
    {
      "cell_type": "code",
      "metadata": {
        "id": "3ZJlrw_4k3_H",
        "colab_type": "code",
        "colab": {}
      },
      "source": [
        "%matplotlib inline\n",
        "import matplotlib.pyplot as plt\n",
        "import numpy as np\n",
        "import time\n",
        "# https://gist.github.com/greydanus/f6eee59eaf1d90fcb3b534a25362cea4\n",
        "# https://stackoverflow.com/a/14434334\n",
        "# this function is used to update the plots for each epoch and error\n",
        "def plt_dynamic(x, vy, ty, ax, colors=['b']):\n",
        "  ax.plot(x, vy, 'b', label=\"Validation Loss\")\n",
        "  ax.plot(x, ty, 'r', label=\"Train Loss\")\n",
        "  plt.legend()\n",
        "  plt.grid()\n",
        "  fig.canvas.draw()\n"
      ],
      "execution_count": 4,
      "outputs": []
    },
    {
      "cell_type": "markdown",
      "metadata": {
        "id": "oabbKHho--0S",
        "colab_type": "text"
      },
      "source": [
        "<h3>Category 1: Kernel_size (3,3) without adding dropout and batch normalization </h3> "
      ]
    },
    {
      "cell_type": "markdown",
      "metadata": {
        "id": "7d95pPDi_bti",
        "colab_type": "text"
      },
      "source": [
        "2 Hidden Layers"
      ]
    },
    {
      "cell_type": "code",
      "metadata": {
        "id": "AnF6xaGn_TgU",
        "colab_type": "code",
        "colab": {
          "base_uri": "https://localhost:8080/",
          "height": 344
        },
        "outputId": "1ec86c96-1ec6-4ad0-f82d-4e6bb7fece1f"
      },
      "source": [
        "model = Sequential()\n",
        "model.add(Conv2D(32, kernel_size=(3, 3),\n",
        "                 activation='relu',\n",
        "                 input_shape=input_shape))\n",
        "model.add(Conv2D(128, (3, 3), activation='relu'))\n",
        "model.add(Conv2D(64, (3, 3), activation='relu'))\n",
        "#model.add(Conv2D(32, (3, 3), activation='relu'))\n",
        "model.add(Flatten())\n",
        "model.add(Dense(num_classes, activation='softmax'))\n",
        "\n",
        "model.summary()"
      ],
      "execution_count": 5,
      "outputs": [
        {
          "output_type": "stream",
          "text": [
            "Model: \"sequential_1\"\n",
            "_________________________________________________________________\n",
            "Layer (type)                 Output Shape              Param #   \n",
            "=================================================================\n",
            "conv2d_1 (Conv2D)            (None, 26, 26, 32)        320       \n",
            "_________________________________________________________________\n",
            "conv2d_2 (Conv2D)            (None, 24, 24, 128)       36992     \n",
            "_________________________________________________________________\n",
            "conv2d_3 (Conv2D)            (None, 22, 22, 64)        73792     \n",
            "_________________________________________________________________\n",
            "flatten_1 (Flatten)          (None, 30976)             0         \n",
            "_________________________________________________________________\n",
            "dense_1 (Dense)              (None, 10)                309770    \n",
            "=================================================================\n",
            "Total params: 420,874\n",
            "Trainable params: 420,874\n",
            "Non-trainable params: 0\n",
            "_________________________________________________________________\n"
          ],
          "name": "stdout"
        }
      ]
    },
    {
      "cell_type": "code",
      "metadata": {
        "id": "rPw3DRhzAi1y",
        "colab_type": "code",
        "colab": {
          "base_uri": "https://localhost:8080/",
          "height": 435
        },
        "outputId": "4ba95fa7-c0d8-4a8d-b852-3c925657bfe8"
      },
      "source": [
        "model.compile(loss=keras.losses.categorical_crossentropy,\n",
        "              optimizer=keras.optimizers.Adadelta(),\n",
        "              metrics=['accuracy'])\n",
        "\n",
        "history = model.fit(x_train, y_train,\n",
        "          batch_size=batch_size,\n",
        "          epochs=epochs,\n",
        "          verbose=1,\n",
        "          validation_data=(x_test, y_test))\n",
        "score = model.evaluate(x_test, y_test, verbose=0)\n",
        "print('Test loss:', score[0])\n",
        "print('Test accuracy:', score[1])"
      ],
      "execution_count": 6,
      "outputs": [
        {
          "output_type": "stream",
          "text": [
            "Train on 60000 samples, validate on 10000 samples\n",
            "Epoch 1/10\n",
            "60000/60000 [==============================] - 533s 9ms/step - loss: 0.1714 - accuracy: 0.9485 - val_loss: 0.0578 - val_accuracy: 0.9804\n",
            "Epoch 2/10\n",
            "60000/60000 [==============================] - 534s 9ms/step - loss: 0.0509 - accuracy: 0.9844 - val_loss: 0.0400 - val_accuracy: 0.9867\n",
            "Epoch 3/10\n",
            "60000/60000 [==============================] - 531s 9ms/step - loss: 0.0352 - accuracy: 0.9892 - val_loss: 0.0351 - val_accuracy: 0.9882\n",
            "Epoch 4/10\n",
            "60000/60000 [==============================] - 529s 9ms/step - loss: 0.0256 - accuracy: 0.9925 - val_loss: 0.0306 - val_accuracy: 0.9904\n",
            "Epoch 5/10\n",
            "60000/60000 [==============================] - 530s 9ms/step - loss: 0.0192 - accuracy: 0.9942 - val_loss: 0.0331 - val_accuracy: 0.9892\n",
            "Epoch 6/10\n",
            "60000/60000 [==============================] - 530s 9ms/step - loss: 0.0146 - accuracy: 0.9957 - val_loss: 0.0366 - val_accuracy: 0.9890\n",
            "Epoch 7/10\n",
            "60000/60000 [==============================] - 537s 9ms/step - loss: 0.0111 - accuracy: 0.9969 - val_loss: 0.0375 - val_accuracy: 0.9890\n",
            "Epoch 8/10\n",
            "60000/60000 [==============================] - 537s 9ms/step - loss: 0.0090 - accuracy: 0.9975 - val_loss: 0.0382 - val_accuracy: 0.9893\n",
            "Epoch 9/10\n",
            "60000/60000 [==============================] - 538s 9ms/step - loss: 0.0066 - accuracy: 0.9981 - val_loss: 0.0408 - val_accuracy: 0.9892\n",
            "Epoch 10/10\n",
            "60000/60000 [==============================] - 534s 9ms/step - loss: 0.0049 - accuracy: 0.9986 - val_loss: 0.0450 - val_accuracy: 0.9890\n",
            "Test loss: 0.04503656446120733\n",
            "Test accuracy: 0.9890000224113464\n"
          ],
          "name": "stdout"
        }
      ]
    },
    {
      "cell_type": "code",
      "metadata": {
        "id": "6UvnquJ-ilvB",
        "colab_type": "code",
        "colab": {
          "base_uri": "https://localhost:8080/",
          "height": 315
        },
        "outputId": "8e6e74f3-907c-4ce4-f3aa-26d7b1152b90"
      },
      "source": [
        "import matplotlib.pyplot as plt\n",
        "%matplotlib inline\n",
        "score = model.evaluate(x_test, y_test, verbose=0)\n",
        "print('Test score:', score[0])\n",
        "print('Test accuracy:', score[1])\n",
        "fig,ax = plt.subplots(1,1)\n",
        "ax.set_xlabel('epoch') ; ax.set_ylabel('Categorical Crossentropy Loss')\n",
        "# list of epoch numbers\n",
        "x = list(range(1,epochs+1))\n",
        "# print(history.history.keys())\n",
        "# dict_keys(['val_loss', 'val_acc', 'loss', 'acc'])\n",
        "# history = model_drop.fit(X_train, Y_train, batch_size=batch_size, epochs=nb_epoch, verbose=1, validation_data=(X_test, Y_test))\n",
        "# we will get val_loss and val_acc only when you pass the paramter validation_data\n",
        "# val_loss : validation loss\n",
        "# val_acc : validation accuracy\n",
        "# loss : training loss\n",
        "# acc : train accuracy\n",
        "# for each key in histrory.histrory we will have a list of length equal to number of epochs\n",
        "vy = history.history['val_loss']\n",
        "ty = history.history['loss']\n",
        "plt_dynamic(x, vy, ty, ax)"
      ],
      "execution_count": 7,
      "outputs": [
        {
          "output_type": "stream",
          "text": [
            "Test score: 0.04503656446120733\n",
            "Test accuracy: 0.9890000224113464\n"
          ],
          "name": "stdout"
        },
        {
          "output_type": "display_data",
          "data": {
            "image/png": "[encoded data removed]",
            "text/plain": [
              "<Figure size 432x288 with 1 Axes>"
            ]
          },
          "metadata": {
            "tags": [],
            "needs_background": "light"
          }
        }
      ]
    },
    {
      "cell_type": "markdown",
      "metadata": {
        "id": "5J-8ANLh5526",
        "colab_type": "text"
      },
      "source": [
        "# 3 Hidden Layers"
      ]
    },
    {
      "cell_type": "code",
      "metadata": {
        "id": "Ea0zNht-i5Nk",
        "colab_type": "code",
        "colab": {
          "base_uri": "https://localhost:8080/",
          "height": 380
        },
        "outputId": "0aa1f0a7-51d0-4476-de3f-f774710edfa9"
      },
      "source": [
        "model = Sequential()\n",
        "model.add(Conv2D(32, kernel_size=(3, 3),\n",
        "                 activation='relu',\n",
        "                 input_shape=input_shape))\n",
        "model.add(Conv2D(128, (3, 3), activation='relu'))\n",
        "model.add(Conv2D(64, (3, 3), activation='relu'))\n",
        "model.add(Conv2D(32, (3, 3), activation='relu'))\n",
        "model.add(Flatten())\n",
        "model.add(Dense(num_classes, activation='softmax'))\n",
        "\n",
        "model.summary()"
      ],
      "execution_count": 8,
      "outputs": [
        {
          "output_type": "stream",
          "text": [
            "Model: \"sequential_2\"\n",
            "_________________________________________________________________\n",
            "Layer (type)                 Output Shape              Param #   \n",
            "=================================================================\n",
            "conv2d_4 (Conv2D)            (None, 26, 26, 32)        320       \n",
            "_________________________________________________________________\n",
            "conv2d_5 (Conv2D)            (None, 24, 24, 128)       36992     \n",
            "_________________________________________________________________\n",
            "conv2d_6 (Conv2D)            (None, 22, 22, 64)        73792     \n",
            "_________________________________________________________________\n",
            "conv2d_7 (Conv2D)            (None, 20, 20, 32)        18464     \n",
            "_________________________________________________________________\n",
            "flatten_2 (Flatten)          (None, 12800)             0         \n",
            "_________________________________________________________________\n",
            "dense_2 (Dense)              (None, 10)                128010    \n",
            "=================================================================\n",
            "Total params: 257,578\n",
            "Trainable params: 257,578\n",
            "Non-trainable params: 0\n",
            "_________________________________________________________________\n"
          ],
          "name": "stdout"
        }
      ]
    },
    {
      "cell_type": "code",
      "metadata": {
        "id": "Hc6iz1WO6Ijg",
        "colab_type": "code",
        "colab": {
          "base_uri": "https://localhost:8080/",
          "height": 435
        },
        "outputId": "91774006-1f91-41f4-a94e-bec5c418af27"
      },
      "source": [
        "model.compile(loss=keras.losses.categorical_crossentropy,\n",
        "              optimizer=keras.optimizers.Adam(),\n",
        "              metrics=['accuracy'])\n",
        "\n",
        "history = model.fit(x_train, y_train,\n",
        "          batch_size=batch_size,\n",
        "          epochs=epochs,\n",
        "          verbose=1,\n",
        "          validation_data=(x_test, y_test))\n",
        "score = model.evaluate(x_test, y_test, verbose=0)\n",
        "print('Test loss:', score[0])\n",
        "print('Test accuracy:', score[1])"
      ],
      "execution_count": 9,
      "outputs": [
        {
          "output_type": "stream",
          "text": [
            "Train on 60000 samples, validate on 10000 samples\n",
            "Epoch 1/10\n",
            "60000/60000 [==============================] - 613s 10ms/step - loss: 0.1503 - accuracy: 0.9539 - val_loss: 0.0659 - val_accuracy: 0.9804\n",
            "Epoch 2/10\n",
            "60000/60000 [==============================] - 615s 10ms/step - loss: 0.0483 - accuracy: 0.9854 - val_loss: 0.0517 - val_accuracy: 0.9855\n",
            "Epoch 3/10\n",
            "60000/60000 [==============================] - 620s 10ms/step - loss: 0.0322 - accuracy: 0.9898 - val_loss: 0.0348 - val_accuracy: 0.9880\n",
            "Epoch 4/10\n",
            "60000/60000 [==============================] - 621s 10ms/step - loss: 0.0245 - accuracy: 0.9927 - val_loss: 0.0373 - val_accuracy: 0.9884\n",
            "Epoch 5/10\n",
            "60000/60000 [==============================] - 620s 10ms/step - loss: 0.0180 - accuracy: 0.9942 - val_loss: 0.0380 - val_accuracy: 0.9893\n",
            "Epoch 6/10\n",
            "60000/60000 [==============================] - 613s 10ms/step - loss: 0.0149 - accuracy: 0.9949 - val_loss: 0.0383 - val_accuracy: 0.9887\n",
            "Epoch 7/10\n",
            "60000/60000 [==============================] - 614s 10ms/step - loss: 0.0114 - accuracy: 0.9963 - val_loss: 0.0488 - val_accuracy: 0.9870\n",
            "Epoch 8/10\n",
            "60000/60000 [==============================] - 617s 10ms/step - loss: 0.0092 - accuracy: 0.9969 - val_loss: 0.0576 - val_accuracy: 0.9853\n",
            "Epoch 9/10\n",
            "60000/60000 [==============================] - 625s 10ms/step - loss: 0.0078 - accuracy: 0.9974 - val_loss: 0.0549 - val_accuracy: 0.9882\n",
            "Epoch 10/10\n",
            "60000/60000 [==============================] - 626s 10ms/step - loss: 0.0067 - accuracy: 0.9979 - val_loss: 0.0513 - val_accuracy: 0.9886\n",
            "Test loss: 0.05131749645890795\n",
            "Test accuracy: 0.9886000156402588\n"
          ],
          "name": "stdout"
        }
      ]
    },
    {
      "cell_type": "code",
      "metadata": {
        "id": "hGaPVvICMewf",
        "colab_type": "code",
        "colab": {
          "base_uri": "https://localhost:8080/",
          "height": 315
        },
        "outputId": "e0638bdb-49ca-463b-80cb-34e83809d8d4"
      },
      "source": [
        "import matplotlib.pyplot as plt\n",
        "%matplotlib inline\n",
        "score = model.evaluate(x_test, y_test, verbose=0)\n",
        "print('Test score:', score[0])\n",
        "print('Test accuracy:', score[1])\n",
        "fig,ax = plt.subplots(1,1)\n",
        "ax.set_xlabel('epoch') ; ax.set_ylabel('Categorical Crossentropy Loss')\n",
        "# list of epoch numbers\n",
        "x = list(range(1,epochs+1))\n",
        "# print(history.history.keys())\n",
        "# dict_keys(['val_loss', 'val_acc', 'loss', 'acc'])\n",
        "# history = model_drop.fit(X_train, Y_train, batch_size=batch_size, epochs=nb_epoch, verbose=1, validation_data=(X_test, Y_test))\n",
        "# we will get val_loss and val_acc only when you pass the paramter validation_data\n",
        "# val_loss : validation loss\n",
        "# val_acc : validation accuracy\n",
        "# loss : training loss\n",
        "# acc : train accuracy\n",
        "# for each key in histrory.histrory we will have a list of length equal to number of epochs\n",
        "vy = history.history['val_loss']\n",
        "ty = history.history['loss']\n",
        "plt_dynamic(x, vy, ty, ax)"
      ],
      "execution_count": 10,
      "outputs": [
        {
          "output_type": "stream",
          "text": [
            "Test score: 0.05131749645890795\n",
            "Test accuracy: 0.9886000156402588\n"
          ],
          "name": "stdout"
        },
        {
          "output_type": "display_data",
          "data": {
            "image/png": "[encoded data removed]",
            "text/plain": [
              "<Figure size 432x288 with 1 Axes>"
            ]
          },
          "metadata": {
            "tags": [],
            "needs_background": "light"
          }
        }
      ]
    },
    {
      "cell_type": "markdown",
      "metadata": {
        "id": "qpRyA9JPMnuH",
        "colab_type": "text"
      },
      "source": [
        "<h3>Category 2: Kernel_size (5,5) , max_pooling with adding dropout and batch normalization </h3> "
      ]
    },
    {
      "cell_type": "markdown",
      "metadata": {
        "id": "4tnWkvnZMwnd",
        "colab_type": "text"
      },
      "source": [
        "2Hidden Layer"
      ]
    },
    {
      "cell_type": "code",
      "metadata": {
        "id": "UaWgpEabMsxw",
        "colab_type": "code",
        "colab": {
          "base_uri": "https://localhost:8080/",
          "height": 562
        },
        "outputId": "75ffb99e-4f09-4c45-c805-004ff45fdc1b"
      },
      "source": [
        "from keras.layers.normalization import BatchNormalization\n",
        "from keras.layers import Dropout\n",
        "\n",
        "model = Sequential()\n",
        "model.add(Conv2D(32, kernel_size=(5,5),\n",
        "                 activation='relu',\n",
        "                 input_shape=input_shape))\n",
        "model.add(Conv2D(64, (5, 5), activation='relu'))\n",
        "model.add(MaxPooling2D(pool_size=(2, 2)))\n",
        "model.add(BatchNormalization())\n",
        "model.add(Dropout(0.5))\n",
        "\n",
        "model.add(Conv2D(64, (5, 5), activation='relu'))\n",
        "model.add(MaxPooling2D(pool_size=(2, 2)))\n",
        "model.add(BatchNormalization())\n",
        "model.add(Dropout(0.5))\n",
        "\n",
        "model.add(Flatten())\n",
        "model.add(Dense(num_classes, activation='softmax'))\n",
        "\n",
        "model.summary()"
      ],
      "execution_count": 11,
      "outputs": [
        {
          "output_type": "stream",
          "text": [
            "Model: \"sequential_3\"\n",
            "_________________________________________________________________\n",
            "Layer (type)                 Output Shape              Param #   \n",
            "=================================================================\n",
            "conv2d_8 (Conv2D)            (None, 24, 24, 32)        832       \n",
            "_________________________________________________________________\n",
            "conv2d_9 (Conv2D)            (None, 20, 20, 64)        51264     \n",
            "_________________________________________________________________\n",
            "max_pooling2d_1 (MaxPooling2 (None, 10, 10, 64)        0         \n",
            "_________________________________________________________________\n",
            "batch_normalization_1 (Batch (None, 10, 10, 64)        256       \n",
            "_________________________________________________________________\n",
            "dropout_1 (Dropout)          (None, 10, 10, 64)        0         \n",
            "_________________________________________________________________\n",
            "conv2d_10 (Conv2D)           (None, 6, 6, 64)          102464    \n",
            "_________________________________________________________________\n",
            "max_pooling2d_2 (MaxPooling2 (None, 3, 3, 64)          0         \n",
            "_________________________________________________________________\n",
            "batch_normalization_2 (Batch (None, 3, 3, 64)          256       \n",
            "_________________________________________________________________\n",
            "dropout_2 (Dropout)          (None, 3, 3, 64)          0         \n",
            "_________________________________________________________________\n",
            "flatten_3 (Flatten)          (None, 576)               0         \n",
            "_________________________________________________________________\n",
            "dense_3 (Dense)              (None, 10)                5770      \n",
            "=================================================================\n",
            "Total params: 160,842\n",
            "Trainable params: 160,586\n",
            "Non-trainable params: 256\n",
            "_________________________________________________________________\n"
          ],
          "name": "stdout"
        }
      ]
    },
    {
      "cell_type": "code",
      "metadata": {
        "id": "hx0gqIHQOGT2",
        "colab_type": "code",
        "colab": {
          "base_uri": "https://localhost:8080/",
          "height": 435
        },
        "outputId": "d64d4082-cba2-49bd-c422-4c9d56587853"
      },
      "source": [
        "model.compile(loss=keras.losses.categorical_crossentropy,\n",
        "              optimizer=keras.optimizers.Adadelta(),\n",
        "              metrics=['accuracy'])\n",
        "\n",
        "history = model.fit(x_train, y_train,\n",
        "          batch_size=batch_size,\n",
        "          epochs=epochs,\n",
        "          verbose=1,\n",
        "          validation_data=(x_test, y_test))\n",
        "score = model.evaluate(x_test, y_test, verbose=0)\n",
        "print('Test loss:', score[0])\n",
        "print('Test accuracy:', score[1])"
      ],
      "execution_count": 12,
      "outputs": [
        {
          "output_type": "stream",
          "text": [
            "Train on 60000 samples, validate on 10000 samples\n",
            "Epoch 1/10\n",
            "60000/60000 [==============================] - 292s 5ms/step - loss: 0.2171 - accuracy: 0.9330 - val_loss: 0.1368 - val_accuracy: 0.9620\n",
            "Epoch 2/10\n",
            "60000/60000 [==============================] - 283s 5ms/step - loss: 0.0770 - accuracy: 0.9762 - val_loss: 0.0345 - val_accuracy: 0.9896\n",
            "Epoch 3/10\n",
            "60000/60000 [==============================] - 288s 5ms/step - loss: 0.0571 - accuracy: 0.9826 - val_loss: 0.0266 - val_accuracy: 0.9901\n",
            "Epoch 4/10\n",
            "60000/60000 [==============================] - 284s 5ms/step - loss: 0.0479 - accuracy: 0.9850 - val_loss: 0.0257 - val_accuracy: 0.9905\n",
            "Epoch 5/10\n",
            "60000/60000 [==============================] - 290s 5ms/step - loss: 0.0418 - accuracy: 0.9874 - val_loss: 0.0261 - val_accuracy: 0.9911\n",
            "Epoch 6/10\n",
            "60000/60000 [==============================] - 284s 5ms/step - loss: 0.0368 - accuracy: 0.9881 - val_loss: 0.0251 - val_accuracy: 0.9916\n",
            "Epoch 7/10\n",
            "60000/60000 [==============================] - 288s 5ms/step - loss: 0.0347 - accuracy: 0.9889 - val_loss: 0.0279 - val_accuracy: 0.9897\n",
            "Epoch 8/10\n",
            "60000/60000 [==============================] - 284s 5ms/step - loss: 0.0299 - accuracy: 0.9905 - val_loss: 0.0220 - val_accuracy: 0.9932\n",
            "Epoch 9/10\n",
            "60000/60000 [==============================] - 286s 5ms/step - loss: 0.0289 - accuracy: 0.9912 - val_loss: 0.0202 - val_accuracy: 0.9930\n",
            "Epoch 10/10\n",
            "60000/60000 [==============================] - 279s 5ms/step - loss: 0.0255 - accuracy: 0.9918 - val_loss: 0.0179 - val_accuracy: 0.9938\n",
            "Test loss: 0.017866041018166287\n",
            "Test accuracy: 0.9937999844551086\n"
          ],
          "name": "stdout"
        }
      ]
    },
    {
      "cell_type": "code",
      "metadata": {
        "id": "OWEBDM1sOJFe",
        "colab_type": "code",
        "colab": {
          "base_uri": "https://localhost:8080/",
          "height": 317
        },
        "outputId": "f52571ca-cbdd-4d59-abd7-c4a530dc1642"
      },
      "source": [
        "import matplotlib.pyplot as plt\n",
        "%matplotlib inline\n",
        "score = model.evaluate(x_test, y_test, verbose=0)\n",
        "print('Test score:', score[0])\n",
        "print('Test accuracy:', score[1])\n",
        "fig,ax = plt.subplots(1,1)\n",
        "ax.set_xlabel('epoch') ; ax.set_ylabel('Categorical Crossentropy Loss')\n",
        "# list of epoch numbers\n",
        "x = list(range(1,epochs+1))\n",
        "# print(history.history.keys())\n",
        "# dict_keys(['val_loss', 'val_acc', 'loss', 'acc'])\n",
        "# history = model_drop.fit(X_train, Y_train, batch_size=batch_size, epochs=nb_epoch, verbose=1, validation_data=(X_test, Y_test))\n",
        "# we will get val_loss and val_acc only when you pass the paramter validation_data\n",
        "# val_loss : validation loss\n",
        "# val_acc : validation accuracy\n",
        "# loss : training loss\n",
        "# acc : train accuracy\n",
        "# for each key in histrory.histrory we will have a list of length equal to number of epochs\n",
        "vy = history.history['val_loss']\n",
        "ty = history.history['loss']\n",
        "plt_dynamic(x, vy, ty, ax)"
      ],
      "execution_count": 14,
      "outputs": [
        {
          "output_type": "stream",
          "text": [
            "Test score: 0.017866041018166287\n",
            "Test accuracy: 0.9937999844551086\n"
          ],
          "name": "stdout"
        },
        {
          "output_type": "display_data",
          "data": {
            "image/png": "[encoded data removed]",
            "text/plain": [
              "<Figure size 432x288 with 1 Axes>"
            ]
          },
          "metadata": {
            "tags": [],
            "needs_background": "light"
          }
        }
      ]
    },
    {
      "cell_type": "markdown",
      "metadata": {
        "id": "gwH84dQhOSPt",
        "colab_type": "text"
      },
      "source": [
        "<h3>Category 3: Kernel_size (2,2) and strides=(2,2),max_pooling, padding = \"same\" with adding dropout and batch normalization </h3> "
      ]
    },
    {
      "cell_type": "code",
      "metadata": {
        "id": "cDDy0zNfORiN",
        "colab_type": "code",
        "colab": {
          "base_uri": "https://localhost:8080/",
          "height": 562
        },
        "outputId": "e0cb2f10-85bf-4d63-e0c6-57ef93993073"
      },
      "source": [
        "model = Sequential()\n",
        "model.add(Conv2D(32, kernel_size=(2,2),\n",
        "                 strides=(2,2),\n",
        "                 padding='same',\n",
        "                 activation='relu',\n",
        "                 input_shape=input_shape))\n",
        "model.add(Conv2D(64, (2, 2), activation='relu'))\n",
        "model.add(MaxPooling2D(pool_size=(2, 2)))\n",
        "model.add(BatchNormalization())\n",
        "model.add(Dropout(0.5))\n",
        "\n",
        "model.add(Conv2D(64, (2, 2), activation='relu'))\n",
        "model.add(MaxPooling2D(pool_size=(2, 2)))\n",
        "model.add(BatchNormalization())\n",
        "model.add(Dropout(0.5))\n",
        "\n",
        "model.add(Flatten())\n",
        "model.add(Dense(num_classes, activation='softmax'))\n",
        "\n",
        "model.summary()"
      ],
      "execution_count": 15,
      "outputs": [
        {
          "output_type": "stream",
          "text": [
            "Model: \"sequential_4\"\n",
            "_________________________________________________________________\n",
            "Layer (type)                 Output Shape              Param #   \n",
            "=================================================================\n",
            "conv2d_11 (Conv2D)           (None, 14, 14, 32)        160       \n",
            "_________________________________________________________________\n",
            "conv2d_12 (Conv2D)           (None, 13, 13, 64)        8256      \n",
            "_________________________________________________________________\n",
            "max_pooling2d_3 (MaxPooling2 (None, 6, 6, 64)          0         \n",
            "_________________________________________________________________\n",
            "batch_normalization_3 (Batch (None, 6, 6, 64)          256       \n",
            "_________________________________________________________________\n",
            "dropout_3 (Dropout)          (None, 6, 6, 64)          0         \n",
            "_________________________________________________________________\n",
            "conv2d_13 (Conv2D)           (None, 5, 5, 64)          16448     \n",
            "_________________________________________________________________\n",
            "max_pooling2d_4 (MaxPooling2 (None, 2, 2, 64)          0         \n",
            "_________________________________________________________________\n",
            "batch_normalization_4 (Batch (None, 2, 2, 64)          256       \n",
            "_________________________________________________________________\n",
            "dropout_4 (Dropout)          (None, 2, 2, 64)          0         \n",
            "_________________________________________________________________\n",
            "flatten_4 (Flatten)          (None, 256)               0         \n",
            "_________________________________________________________________\n",
            "dense_4 (Dense)              (None, 10)                2570      \n",
            "=================================================================\n",
            "Total params: 27,946\n",
            "Trainable params: 27,690\n",
            "Non-trainable params: 256\n",
            "_________________________________________________________________\n"
          ],
          "name": "stdout"
        }
      ]
    },
    {
      "cell_type": "code",
      "metadata": {
        "id": "K30WXXtZP1Lu",
        "colab_type": "code",
        "colab": {
          "base_uri": "https://localhost:8080/",
          "height": 435
        },
        "outputId": "6f508425-0c7f-4cac-8278-9b995b98d1d4"
      },
      "source": [
        "model.compile(loss=keras.losses.categorical_crossentropy,\n",
        "              optimizer=keras.optimizers.Adadelta(),\n",
        "              metrics=['accuracy'])\n",
        "\n",
        "history = model.fit(x_train, y_train,\n",
        "          batch_size=batch_size,\n",
        "          epochs=epochs,\n",
        "          verbose=1,\n",
        "          validation_data=(x_test, y_test))\n",
        "score = model.evaluate(x_test, y_test, verbose=0)\n",
        "print('Test loss:', score[0])\n",
        "print('Test accuracy:', score[1])"
      ],
      "execution_count": 16,
      "outputs": [
        {
          "output_type": "stream",
          "text": [
            "Train on 60000 samples, validate on 10000 samples\n",
            "Epoch 1/10\n",
            "60000/60000 [==============================] - 35s 591us/step - loss: 0.6308 - accuracy: 0.8009 - val_loss: 0.3981 - val_accuracy: 0.9075\n",
            "Epoch 2/10\n",
            "60000/60000 [==============================] - 36s 596us/step - loss: 0.2360 - accuracy: 0.9259 - val_loss: 0.0935 - val_accuracy: 0.9713\n",
            "Epoch 3/10\n",
            "60000/60000 [==============================] - 36s 598us/step - loss: 0.1894 - accuracy: 0.9406 - val_loss: 0.0794 - val_accuracy: 0.9767\n",
            "Epoch 4/10\n",
            "60000/60000 [==============================] - 37s 613us/step - loss: 0.1644 - accuracy: 0.9488 - val_loss: 0.0733 - val_accuracy: 0.9778\n",
            "Epoch 5/10\n",
            "60000/60000 [==============================] - 36s 592us/step - loss: 0.1497 - accuracy: 0.9529 - val_loss: 0.0650 - val_accuracy: 0.9792\n",
            "Epoch 6/10\n",
            "60000/60000 [==============================] - 36s 596us/step - loss: 0.1416 - accuracy: 0.9562 - val_loss: 0.0707 - val_accuracy: 0.9769\n",
            "Epoch 7/10\n",
            "60000/60000 [==============================] - 36s 605us/step - loss: 0.1334 - accuracy: 0.9578 - val_loss: 0.0609 - val_accuracy: 0.9814\n",
            "Epoch 8/10\n",
            "60000/60000 [==============================] - 36s 601us/step - loss: 0.1281 - accuracy: 0.9592 - val_loss: 0.0586 - val_accuracy: 0.9819\n",
            "Epoch 9/10\n",
            "60000/60000 [==============================] - 36s 603us/step - loss: 0.1261 - accuracy: 0.9608 - val_loss: 0.0568 - val_accuracy: 0.9823\n",
            "Epoch 10/10\n",
            "60000/60000 [==============================] - 36s 604us/step - loss: 0.1222 - accuracy: 0.9616 - val_loss: 0.0532 - val_accuracy: 0.9839\n",
            "Test loss: 0.05317528839812148\n",
            "Test accuracy: 0.9839000105857849\n"
          ],
          "name": "stdout"
        }
      ]
    },
    {
      "cell_type": "code",
      "metadata": {
        "id": "bo7AWnlEP2_z",
        "colab_type": "code",
        "colab": {
          "base_uri": "https://localhost:8080/",
          "height": 315
        },
        "outputId": "2aa82bba-c185-4bd3-c0df-42340d88e726"
      },
      "source": [
        "import matplotlib.pyplot as plt\n",
        "%matplotlib inline\n",
        "score = model.evaluate(x_test, y_test, verbose=0)\n",
        "print('Test score:', score[0])\n",
        "print('Test accuracy:', score[1])\n",
        "fig,ax = plt.subplots(1,1)\n",
        "ax.set_xlabel('epoch') ; ax.set_ylabel('Categorical Crossentropy Loss')\n",
        "# list of epoch numbers\n",
        "x = list(range(1,epochs+1))\n",
        "# print(history.history.keys())\n",
        "# dict_keys(['val_loss', 'val_acc', 'loss', 'acc'])\n",
        "# history = model_drop.fit(X_train, Y_train, batch_size=batch_size, epochs=nb_epoch, verbose=1, validation_data=(X_test, Y_test))\n",
        "# we will get val_loss and val_acc only when you pass the paramter validation_data\n",
        "# val_loss : validation loss\n",
        "# val_acc : validation accuracy\n",
        "# loss : training loss\n",
        "# acc : train accuracy\n",
        "# for each key in histrory.histrory we will have a list of length equal to number of epochs\n",
        "vy = history.history['val_loss']\n",
        "ty = history.history['loss']\n",
        "plt_dynamic(x, vy, ty, ax)"
      ],
      "execution_count": 18,
      "outputs": [
        {
          "output_type": "stream",
          "text": [
            "Test score: 0.05317528839812148\n",
            "Test accuracy: 0.9839000105857849\n"
          ],
          "name": "stdout"
        },
        {
          "output_type": "display_data",
          "data": {
            "image/png": "[encoded data removed]",
            "text/plain": [
              "<Figure size 432x288 with 1 Axes>"
            ]
          },
          "metadata": {
            "tags": [],
            "needs_background": "light"
          }
        }
      ]
    },
    {
      "cell_type": "markdown",
      "metadata": {
        "id": "auqSsqw0P8kr",
        "colab_type": "text"
      },
      "source": [
        "<h3>Category 4: Kernel_size (7,7),max_pooling, padding = \"valid\" with adding dropout and batch normalization </h3> "
      ]
    },
    {
      "cell_type": "code",
      "metadata": {
        "id": "zhkygJgnQCRM",
        "colab_type": "code",
        "colab": {
          "base_uri": "https://localhost:8080/",
          "height": 562
        },
        "outputId": "2fb1d63b-87ca-4863-9670-1a656a0bd2ba"
      },
      "source": [
        "model = Sequential()\n",
        "model.add(Conv2D(32, kernel_size=(7,7),\n",
        "                 padding='valid',\n",
        "                 activation='relu',\n",
        "                 input_shape=input_shape))\n",
        "model.add(Conv2D(128, (7, 7), activation='relu'))\n",
        "model.add(MaxPooling2D(pool_size=(2, 2)))\n",
        "model.add(BatchNormalization())\n",
        "model.add(Dropout(0.5))\n",
        "\n",
        "model.add(Conv2D(64, (7, 7), activation='relu'))\n",
        "model.add(MaxPooling2D(pool_size=(2, 2)))\n",
        "model.add(BatchNormalization())\n",
        "model.add(Dropout(0.5))\n",
        "\n",
        "model.add(Flatten())\n",
        "model.add(Dense(num_classes, activation='softmax'))\n",
        "\n",
        "model.summary()"
      ],
      "execution_count": 21,
      "outputs": [
        {
          "output_type": "stream",
          "text": [
            "Model: \"sequential_7\"\n",
            "_________________________________________________________________\n",
            "Layer (type)                 Output Shape              Param #   \n",
            "=================================================================\n",
            "conv2d_20 (Conv2D)           (None, 22, 22, 32)        1600      \n",
            "_________________________________________________________________\n",
            "conv2d_21 (Conv2D)           (None, 16, 16, 128)       200832    \n",
            "_________________________________________________________________\n",
            "max_pooling2d_7 (MaxPooling2 (None, 8, 8, 128)         0         \n",
            "_________________________________________________________________\n",
            "batch_normalization_7 (Batch (None, 8, 8, 128)         512       \n",
            "_________________________________________________________________\n",
            "dropout_7 (Dropout)          (None, 8, 8, 128)         0         \n",
            "_________________________________________________________________\n",
            "conv2d_22 (Conv2D)           (None, 2, 2, 64)          401472    \n",
            "_________________________________________________________________\n",
            "max_pooling2d_8 (MaxPooling2 (None, 1, 1, 64)          0         \n",
            "_________________________________________________________________\n",
            "batch_normalization_8 (Batch (None, 1, 1, 64)          256       \n",
            "_________________________________________________________________\n",
            "dropout_8 (Dropout)          (None, 1, 1, 64)          0         \n",
            "_________________________________________________________________\n",
            "flatten_5 (Flatten)          (None, 64)                0         \n",
            "_________________________________________________________________\n",
            "dense_5 (Dense)              (None, 10)                650       \n",
            "=================================================================\n",
            "Total params: 605,322\n",
            "Trainable params: 604,938\n",
            "Non-trainable params: 384\n",
            "_________________________________________________________________\n"
          ],
          "name": "stdout"
        }
      ]
    },
    {
      "cell_type": "code",
      "metadata": {
        "id": "jQSXBTyaQPdr",
        "colab_type": "code",
        "colab": {
          "base_uri": "https://localhost:8080/",
          "height": 435
        },
        "outputId": "46f2022b-68e0-4ca7-dfb5-b9844b3b14fa"
      },
      "source": [
        "model.compile(loss=keras.losses.categorical_crossentropy,\n",
        "              optimizer=keras.optimizers.Adam(),\n",
        "              metrics=['accuracy'])\n",
        "\n",
        "history = model.fit(x_train, y_train,\n",
        "          batch_size=batch_size,\n",
        "          epochs=epochs,\n",
        "          verbose=1,\n",
        "          validation_data=(x_test, y_test))\n",
        "score = model.evaluate(x_test, y_test, verbose=0)\n",
        "print('Test loss:', score[0])\n",
        "print('Test accuracy:', score[1])"
      ],
      "execution_count": 22,
      "outputs": [
        {
          "output_type": "stream",
          "text": [
            "Train on 60000 samples, validate on 10000 samples\n",
            "Epoch 1/10\n",
            "60000/60000 [==============================] - 510s 9ms/step - loss: 0.1752 - accuracy: 0.9494 - val_loss: 0.0913 - val_accuracy: 0.9845\n",
            "Epoch 2/10\n",
            "60000/60000 [==============================] - 508s 8ms/step - loss: 0.0643 - accuracy: 0.9811 - val_loss: 0.0288 - val_accuracy: 0.9901\n",
            "Epoch 3/10\n",
            "60000/60000 [==============================] - 510s 8ms/step - loss: 0.0507 - accuracy: 0.9851 - val_loss: 0.0322 - val_accuracy: 0.9895\n",
            "Epoch 4/10\n",
            "60000/60000 [==============================] - 514s 9ms/step - loss: 0.0423 - accuracy: 0.9875 - val_loss: 0.0214 - val_accuracy: 0.9931\n",
            "Epoch 5/10\n",
            "60000/60000 [==============================] - 515s 9ms/step - loss: 0.0356 - accuracy: 0.9891 - val_loss: 0.0175 - val_accuracy: 0.9945\n",
            "Epoch 6/10\n",
            "60000/60000 [==============================] - 514s 9ms/step - loss: 0.0320 - accuracy: 0.9904 - val_loss: 0.0218 - val_accuracy: 0.9922\n",
            "Epoch 7/10\n",
            "60000/60000 [==============================] - 510s 8ms/step - loss: 0.0284 - accuracy: 0.9914 - val_loss: 0.0211 - val_accuracy: 0.9923\n",
            "Epoch 8/10\n",
            "60000/60000 [==============================] - 514s 9ms/step - loss: 0.0285 - accuracy: 0.9915 - val_loss: 0.0309 - val_accuracy: 0.9909\n",
            "Epoch 9/10\n",
            "60000/60000 [==============================] - 506s 8ms/step - loss: 0.0259 - accuracy: 0.9922 - val_loss: 0.0170 - val_accuracy: 0.9946\n",
            "Epoch 10/10\n",
            "60000/60000 [==============================] - 507s 8ms/step - loss: 0.0224 - accuracy: 0.9928 - val_loss: 0.0215 - val_accuracy: 0.9929\n",
            "Test loss: 0.021513261749742378\n",
            "Test accuracy: 0.992900013923645\n"
          ],
          "name": "stdout"
        }
      ]
    },
    {
      "cell_type": "code",
      "metadata": {
        "id": "opzTRIkuQRH8",
        "colab_type": "code",
        "colab": {
          "base_uri": "https://localhost:8080/",
          "height": 315
        },
        "outputId": "11534a5b-47b7-439f-89bc-e78611021d6b"
      },
      "source": [
        "import matplotlib.pyplot as plt\n",
        "%matplotlib inline\n",
        "score = model.evaluate(x_test, y_test, verbose=0)\n",
        "print('Test score:', score[0])\n",
        "print('Test accuracy:', score[1])\n",
        "fig,ax = plt.subplots(1,1)\n",
        "ax.set_xlabel('epoch') ; ax.set_ylabel('Categorical Crossentropy Loss')\n",
        "# list of epoch numbers\n",
        "x = list(range(1,epochs+1))\n",
        "# print(history.history.keys())\n",
        "# dict_keys(['val_loss', 'val_acc', 'loss', 'acc'])\n",
        "# history = model_drop.fit(X_train, Y_train, batch_size=batch_size, epochs=nb_epoch, verbose=1, validation_data=(X_test, Y_test))\n",
        "# we will get val_loss and val_acc only when you pass the paramter validation_data\n",
        "# val_loss : validation loss\n",
        "# val_acc : validation accuracy\n",
        "# loss : training loss\n",
        "# acc : train accuracy\n",
        "# for each key in histrory.histrory we will have a list of length equal to number of epochs\n",
        "vy = history.history['val_loss']\n",
        "ty = history.history['loss']\n",
        "plt_dynamic(x, vy, ty, ax)"
      ],
      "execution_count": 23,
      "outputs": [
        {
          "output_type": "stream",
          "text": [
            "Test score: 0.021513261749742378\n",
            "Test accuracy: 0.992900013923645\n"
          ],
          "name": "stdout"
        },
        {
          "output_type": "display_data",
          "data": {
            "image/png": "[encoded data removed]",
            "text/plain": [
              "<Figure size 432x288 with 1 Axes>"
            ]
          },
          "metadata": {
            "tags": [],
            "needs_background": "light"
          }
        }
      ]
    },
    {
      "cell_type": "markdown",
      "metadata": {
        "id": "tgPuhxX_dbfZ",
        "colab_type": "text"
      },
      "source": [
        "Display Using PrettyTable"
      ]
    },
    {
      "cell_type": "code",
      "metadata": {
        "id": "AB-ga28adflO",
        "colab_type": "code",
        "colab": {
          "base_uri": "https://localhost:8080/",
          "height": 181
        },
        "outputId": "b9e92326-c0f3-485b-b809-05e06920fa22"
      },
      "source": [
        "from prettytable import PrettyTable\n",
        "x=PrettyTable()\n",
        "x.field_names=[\"Model\",\"#Hidden Layers\",\"Kernel-Size\",\"MaxPooling\",\"Dropout/BatchNormalization\",\"Optimizer\",\"Activation\",\"Accuracy\"] #column headers\n",
        "x.add_row([\"1.\",\"2(128-64)\", \"3X3\",\"False\",\"False\",\"Adadelta\",\"ReLu\",\"0.989\"])\n",
        "x.add_row([\"2.\",\"3(128-64-32)\", \"3X3\",\"False\",\"False\",\"Adam\",\"ReLu\",\"0.988\"])\n",
        "x.add_row([\"3.\",\"2(64-64)\", \"5X5\",\"2X2\",\"True\",\"Adadelta\",\"ReLu\",\"0.993\"])\n",
        "x.add_row([\"4.\",\"2(64-64)\", \"2X2(s=2,p='same')\",\"2X2\",\"True\",\"Adadelta\",\"ReLu\",\"0.983\"])\n",
        "x.add_row([\"5.\",\"2(128-64)\", \"7X7(s=2,p='valid')\",\"2X2\",\"True\",\"Adam\",\"ReLu\",\"0.992\"])\n",
        "print(x)"
      ],
      "execution_count": 26,
      "outputs": [
        {
          "output_type": "stream",
          "text": [
            "+-------+----------------+--------------------+------------+----------------------------+-----------+------------+----------+\n",
            "| Model | #Hidden Layers |    Kernel-Size     | MaxPooling | Dropout/BatchNormalization | Optimizer | Activation | Accuracy |\n",
            "+-------+----------------+--------------------+------------+----------------------------+-----------+------------+----------+\n",
            "|   1.  |   2(128-64)    |        3X3         |   False    |           False            |  Adadelta |    ReLu    |  0.989   |\n",
            "|   2.  |  3(128-64-32)  |        3X3         |   False    |           False            |    Adam   |    ReLu    |  0.988   |\n",
            "|   3.  |    2(64-64)    |        5X5         |    2X2     |            True            |  Adadelta |    ReLu    |  0.993   |\n",
            "|   4.  |    2(64-64)    | 2X2(s=2,p='same')  |    2X2     |            True            |  Adadelta |    ReLu    |  0.983   |\n",
            "|   5.  |   2(128-64)    | 7X7(s=2,p='valid') |    2X2     |            True            |    Adam   |    ReLu    |  0.992   |\n",
            "+-------+----------------+--------------------+------------+----------------------------+-----------+------------+----------+\n"
          ],
          "name": "stdout"
        }
      ]
    },
    {
      "cell_type": "code",
      "metadata": {
        "id": "Nq29c5LuxqEV",
        "colab_type": "code",
        "colab": {}
      },
      "source": [
        ""
      ],
      "execution_count": null,
      "outputs": []
    }
  ]
}